{
 "cells": [
  {
   "cell_type": "markdown",
   "id": "e5dc9d7e",
   "metadata": {},
   "source": [
    "Pybridizer basic usage example:\n",
    "\n",
    "This notebook demonstrates how to use Pybridizer to design HCR probes"
   ]
  },
  {
   "cell_type": "markdown",
   "id": "258601f7",
   "metadata": {},
   "source": [
    "Import essential functions from the pybridizer probe design module"
   ]
  },
  {
   "cell_type": "code",
   "execution_count": 1,
   "id": "44aba29b",
   "metadata": {},
   "outputs": [],
   "source": [
    "from pybridizer import read_fasta, create_oligos, blast_oligos, fetch_geneIDs, filter_and_rank, add_hairpin, plot_sequence_alignment"
   ]
  },
  {
   "cell_type": "markdown",
   "id": "3199089c",
   "metadata": {},
   "source": [
    "Read a FASTA file containing the transcript sequence for which HCR probes need to be designed. The file should be in a .fasta/.fa/.faa format."
   ]
  },
  {
   "cell_type": "code",
   "execution_count": null,
   "id": "098ef728",
   "metadata": {},
   "outputs": [
    {
     "name": "stdout",
     "output_type": "stream",
     "text": [
      "Transcript ID:  NM_131875.1\n",
      "Transcript Description:  NM_131875.1 Danio rerio SRY-box transcription factor 10 (sox10), mRNA\n",
      "Transcript Sequence Length:  3231 nt\n"
     ]
    }
   ],
   "source": [
    "ID, desc, sequence = read_fasta(\"Pybridizer\\\\input\\\\sox10_zebrafish.fasta\")"
   ]
  },
  {
   "cell_type": "markdown",
   "id": "ca14781f",
   "metadata": {},
   "source": [
    "Now, the transcript sequence needs to be tiled into oligos (default:25 base length, 2 base gap).\n",
    "\n",
    "Optional: You can also adjust the length of the oligo, gap between oligos and frame start position (0 i.e. beginning of the transcript by default)"
   ]
  },
  {
   "cell_type": "code",
   "execution_count": 3,
   "id": "5d5a91cf",
   "metadata": {},
   "outputs": [
    {
     "name": "stdout",
     "output_type": "stream",
     "text": [
      "Oligos tiled along the transcript sequence:\n",
      "[Seq('CGTTGTGTGAAGAGCGAGAAAAAAC'), Seq('TGTCGCGCGTCGAGGCTTAAAGAGC'), Seq('TCGCTCGCGCTCTGAATGCCTGCTC'), Seq('GCGCGAGAGTCCGTCGGTTCAGCCC'), Seq('TTTACAGTGCAGCAGGTCGCCCGCC'), Seq('TCCTCAGAATATAGATCTGATGGAA'), Seq('CTGTCAGAAGGAATCCTTCCGCCGT'), Seq('TAACAGTTCTTTTCAAACGACTCGA'), Seq('ATTATTTAAGATCATCCAGTGAAAC'), Seq('TCTTGTAAAATAATTGTGCTTTTGT'), Seq('TTAATTTATACTTCTCAAATGTTTT'), Seq('TTAAATTTTATTTTAAATATAAATG'), Seq('TGACTTCGGTAGGTTTAATTTCCTC'), Seq('TCGGTCCACTAGTTCTGCGGCCACA'), Seq('CCGACATGCTGTGCTCCTCCGCCGA'), Seq('CCGACACCCCGGGACTCATTTCCAC'), Seq('GACCAGGGGACATGGAGTGCCCATC'), Seq('CCGCGCCACCGGGAGCGCCCGACGA'), Seq('GAGACTGCTGACCGGGCAGAGGGGA'), Seq('CTCCATCATCCCCGATCCCGGACAT'), Seq('TCACCGAGACCCCGCCGGAGACACC'), Seq('GGAACCGGTCATCTTCCTCGTCGGA'), Seq('GACTGACCGCCTCGCGGATGCCGAT'), Seq('GCGTCCAGTCGTACCCGTTCAGCAC'), Seq('AGTTCACGCGCACGGGCATGGGCAC'), Seq('TGACGTGCGGTTTGCTCTTGCTGCC'), Seq('ACACCATGAACGCGTTCATCGGCCG'), Seq('CCAGTTTCCTGCGCGCGGCCTGCGC'), Seq('CGTTGTGCAGGTGCGGATATTGATC'), Seq('GCTTCCCCAGTGTTTTGCTGAGCTC'), Seq('TATCCGTCTCGTTCAGCAGTCTCCA'), Seq('GCTCGGCCTCCTCGATAAACGGCCG'), Seq('AATCTTTCTTATGCTGCTTCCTCAA'), Seq('GACGTGGCTGGTACTTGTACTCGGG'), Seq('TGGAACCCGGTTTGCCGTTCTTGCG'), Seq('CCTCAGAGTGGGCGTCGGCCTCTGA'), Seq('AATGCGATTGGCTGTGGCTGACCTC'), Seq('GCGCCACCTCCAGGTGCAGGCTCTT'), Seq('CCAATGGTGACCCTGCAGCCCCGCC'), Seq('CTGTAGCGTGAGGGTGGTGTCCATC'), Seq('GGGGCGTTGGAGGGCTGTGACTCTG'), Seq('CCTGCAGTTCCGTCTTGGGGGTGGT'), Seq('CACGCTTGCCCTCGCCTGATTTTCC'), Seq('CCAGTCCACTCCGAGAGGCTCCGCC'), Seq('AGGCGGAGCTTCCATCTGCTCCCAC'), Seq('TGTGCGGTTTCCCGCTGGCAGACGA'), Seq('CGCCAATGTCCACGTTACCGAAGTC'), Seq('TGTTGGCCATCACGTCATGGCTGAT'), Seq('CGAACTCGTTCACGTCGAACGGCTC'), Seq('GGTGGCCATTGGGTGGGAGATACTG'), Seq('CTGCGCTGGCAGTGGCGGACGCCTG'), Seq('CGTATGTATACGATGGCGCTGCAGA'), Seq('TAGCGGCCGCTAGCGCGCTGGAGAT'), Seq('TGGACAGCCATGCGGTGGAGTGGCC'), Seq('AATGCTGCTGGGACGGCAGTTGCTG'), Seq('TCTGCGTTTTCCCGCCATCTGCGCC'), Seq('CCCCAGGGAAGTGTGTTTCACTCTT'), Seq('TGACGTGTGAACCGCTCGCCGCTGT'), Seq('AGTGCGGCAGTGTTAGCGGCGTGTA'), Seq('ACGCCAGCGAGGGGAAGGCGGAGCT'), Seq('CGGCGTATTCGGCGAATTGTGCGCG'), Seq('CGTAGTAGGATCCCGAGGCCTGGTG'), Seq('AGAGGCCTGAGGTCTGGCTGGAGTG'), Seq('AGGGGCCCATGTAGGAGAAGGCGGA'), Seq('GAATGGCGGTGTACAGGGGCCGCTG'), Seq('GTGACTGCGGCACGGATCCCGGATC'), Seq('CGGGCTGCTCCCAATGCGTAGGGCT'), Seq('GTCACGGTCGAGACAGTGTGGTGTA'), Seq('TAGTGACTGGTCATCTTGGTAGAGT'), Seq('CACACACACACCTTACGGTTGGACC'), Seq('GCGAGTGTTTCGATGATTTTTAGCA'), Seq('TCTCAGTTTGTGTCGATTGTGGTGC'), Seq('CACACACACACACACTCGTTTCTCA'), Seq('CGTGAGAATATTTCCCTGCAGATCT'), Seq('AGGTCTGGACGGTGGTCGTCTGAGG'), Seq('CTGGTGTCAAATTGGCGTTGAGGGA'), Seq('GGTACTACGTCTTTTTCGAAAATAC'), Seq('TCTGTAATGTTTTGGTCTCGGTACT'), Seq('CAGGAAGGATGGATGCACTCTCGTA'), Seq('TCTGTGTGTGATCTGATATCCGGAG'), Seq('CACTGGTACTAGCATCATGTGTTGA'), Seq('TACAAATACAGATAAAAAATGCGGA'), Seq('TTGGTTAATAAAAAGATTATTCATT'), Seq('TTTTTTTAAAAACAATATGGCCTTA'), Seq('ATTACAACAACGAAAAACACCTCAT'), Seq('ATAACAACAGTAACGACAACACAAG'), Seq('CTTTTCAGTGTAGTTATGGCAACAC'), Seq('TTAACAAACACTAGACAGTGGTGAA'), Seq('GCTGAAAGTCATAAAACACAAATGT'), Seq('GGCGTCCTGGCACTGATATTTACAC'), Seq('CTTAATTGGGTGGAGACATGTGTGT'), Seq('ATTTAATTAACGTCACTGTGAGCGC'), Seq('GGAATTTGCATGGTTGGGAATTCCT'), Seq('CTTTCACGAAATATAGCCATTTCTA'), Seq('GAAATAAAGGTGCGCTCACATTTAC'), Seq('ATATTACCTTTACAGTACTGCTTGT'), Seq('GTCCACCATTTCCAATCTGGCAAAA'), Seq('CATTTATTATTAAAAATTCGTAATT'), Seq('GCACTAGCGGTATTCTCTAAAAATA'), Seq('CGACAATTCGTTTGTGATGGACTTG'), Seq('CATCATCAAAATTGAATTTATCAGA'), Seq('AAAATTTGCACCCTGAAAAGGATTT'), Seq('GTATAATCACATCGGTTAACGCATG'), Seq('TTATTAATTTGCATATGCATATTCG'), Seq('ATGTATTTTTAATTATAAAAATGGC'), Seq('AATGTTAGGAAGGTCTTCAGATAGT'), Seq('GAAATAAATGTATTTATTTACTTAC'), Seq('TATTGTATTTACCAAAAATAATACA'), Seq('AGGGAGACAAAACATAGAATAGCTA'), Seq('GGCAAAAACAAAACTATAAAGTACC'), Seq('TTCTGAATAATACTAAATAATAAAG'), Seq('TGTAATATATAAAAAGAGTTTGTTT'), Seq('AAACAACAACAAATATAAATAATAT'), Seq('ACAGAATAAAACGCTACTGATAAAA'), Seq('ACAGCACACGACAGAGGTTTACGAC'), Seq('AAAACAACAGCACTTTAACCCACCA'), Seq('TCTCAGTTCTATTTACACCGACAGA'), Seq('TTTAGAGTGAGGAAAGTTAGTCACT')]\n"
     ]
    }
   ],
   "source": [
    "oligos_all = create_oligos(sequence,oligo_length=25,gap_length=2,frame_start_position=0)"
   ]
  },
  {
   "cell_type": "markdown",
   "id": "338f29a9",
   "metadata": {},
   "source": [
    "Next, perform a batch BLAST for each of the oligos against your database and save the BLAST results.\n",
    "\n",
    "!!!Warning!!! : BLAST+ must be installed and a BLAST database should be built using 'makeblastdb' command on the data downloaded from vector base. This is a pre-requisite for the BLAST function to work.\n",
    "\n",
    "The database name ('dbname') should be your custom BLAST database and the taxonomy ID ('taxid') argument is optional.\n",
    "Taxonomy ID is essential if you want to run BLAST for a specific species in a database with multiple species.  "
   ]
  },
  {
   "cell_type": "code",
   "execution_count": 4,
   "id": "d1ab5211",
   "metadata": {},
   "outputs": [
    {
     "name": "stdout",
     "output_type": "stream",
     "text": [
      "Running batch BLAST on oligos...\n",
      "BLAST completed successfully\n"
     ]
    }
   ],
   "source": [
    "blast_result = blast_oligos(oligos_all, dbname='refseq', taxid=7955)"
   ]
  },
  {
   "cell_type": "markdown",
   "id": "01eeeb74",
   "metadata": {},
   "source": [
    "You can view the BLAST results now.\n",
    "\n",
    "The dataframe lists the query results for each oligo including hits (matches with other transcripts) in the database, length of the matches, match positions and match scores."
   ]
  },
  {
   "cell_type": "code",
   "execution_count": 5,
   "id": "a872cc6f",
   "metadata": {},
   "outputs": [
    {
     "data": {
      "text/html": [
       "<div>\n",
       "<style scoped>\n",
       "    .dataframe tbody tr th:only-of-type {\n",
       "        vertical-align: middle;\n",
       "    }\n",
       "\n",
       "    .dataframe tbody tr th {\n",
       "        vertical-align: top;\n",
       "    }\n",
       "\n",
       "    .dataframe thead th {\n",
       "        text-align: right;\n",
       "    }\n",
       "</style>\n",
       "<table border=\"1\" class=\"dataframe\">\n",
       "  <thead>\n",
       "    <tr style=\"text-align: right;\">\n",
       "      <th></th>\n",
       "      <th>qid</th>\n",
       "      <th>sseqid</th>\n",
       "      <th>pident</th>\n",
       "      <th>length</th>\n",
       "      <th>mismatch</th>\n",
       "      <th>gapopen</th>\n",
       "      <th>qstart</th>\n",
       "      <th>qend</th>\n",
       "      <th>sstart</th>\n",
       "      <th>send</th>\n",
       "      <th>evalue</th>\n",
       "      <th>bitscore</th>\n",
       "    </tr>\n",
       "  </thead>\n",
       "  <tbody>\n",
       "    <tr>\n",
       "      <th>0</th>\n",
       "      <td>1</td>\n",
       "      <td>NM_131875.1</td>\n",
       "      <td>100.000</td>\n",
       "      <td>25</td>\n",
       "      <td>0</td>\n",
       "      <td>0</td>\n",
       "      <td>1</td>\n",
       "      <td>25</td>\n",
       "      <td>25</td>\n",
       "      <td>1</td>\n",
       "      <td>0.000002</td>\n",
       "      <td>50.1</td>\n",
       "    </tr>\n",
       "    <tr>\n",
       "      <th>1</th>\n",
       "      <td>1</td>\n",
       "      <td>NM_001098197.1</td>\n",
       "      <td>100.000</td>\n",
       "      <td>16</td>\n",
       "      <td>0</td>\n",
       "      <td>0</td>\n",
       "      <td>4</td>\n",
       "      <td>19</td>\n",
       "      <td>900</td>\n",
       "      <td>885</td>\n",
       "      <td>0.370000</td>\n",
       "      <td>32.2</td>\n",
       "    </tr>\n",
       "    <tr>\n",
       "      <th>2</th>\n",
       "      <td>1</td>\n",
       "      <td>NM_001097586.1</td>\n",
       "      <td>100.000</td>\n",
       "      <td>16</td>\n",
       "      <td>0</td>\n",
       "      <td>0</td>\n",
       "      <td>4</td>\n",
       "      <td>19</td>\n",
       "      <td>790</td>\n",
       "      <td>775</td>\n",
       "      <td>0.370000</td>\n",
       "      <td>32.2</td>\n",
       "    </tr>\n",
       "    <tr>\n",
       "      <th>9</th>\n",
       "      <td>1</td>\n",
       "      <td>NM_001076740.2</td>\n",
       "      <td>94.444</td>\n",
       "      <td>18</td>\n",
       "      <td>1</td>\n",
       "      <td>0</td>\n",
       "      <td>6</td>\n",
       "      <td>23</td>\n",
       "      <td>238</td>\n",
       "      <td>221</td>\n",
       "      <td>5.800000</td>\n",
       "      <td>28.2</td>\n",
       "    </tr>\n",
       "    <tr>\n",
       "      <th>16</th>\n",
       "      <td>1</td>\n",
       "      <td>NM_001386842.1</td>\n",
       "      <td>94.118</td>\n",
       "      <td>17</td>\n",
       "      <td>1</td>\n",
       "      <td>0</td>\n",
       "      <td>4</td>\n",
       "      <td>20</td>\n",
       "      <td>316</td>\n",
       "      <td>300</td>\n",
       "      <td>23.000000</td>\n",
       "      <td>26.3</td>\n",
       "    </tr>\n",
       "  </tbody>\n",
       "</table>\n",
       "</div>"
      ],
      "text/plain": [
       "    qid          sseqid   pident  length  mismatch  gapopen  qstart  qend  \\\n",
       "0     1     NM_131875.1  100.000      25         0        0       1    25   \n",
       "1     1  NM_001098197.1  100.000      16         0        0       4    19   \n",
       "2     1  NM_001097586.1  100.000      16         0        0       4    19   \n",
       "9     1  NM_001076740.2   94.444      18         1        0       6    23   \n",
       "16    1  NM_001386842.1   94.118      17         1        0       4    20   \n",
       "\n",
       "    sstart  send     evalue  bitscore  \n",
       "0       25     1   0.000002      50.1  \n",
       "1      900   885   0.370000      32.2  \n",
       "2      790   775   0.370000      32.2  \n",
       "9      238   221   5.800000      28.2  \n",
       "16     316   300  23.000000      26.3  "
      ]
     },
     "execution_count": 5,
     "metadata": {},
     "output_type": "execute_result"
    }
   ],
   "source": [
    "blast_result.head()"
   ]
  },
  {
   "cell_type": "markdown",
   "id": "e38849c6",
   "metadata": {},
   "source": [
    "The next step is to retreive gene IDs that correspond to transcript IDs. This would be useful if multiple transcript IDs exist for a single gene.\n",
    "\n",
    "This step is completely optional. "
   ]
  },
  {
   "cell_type": "code",
   "execution_count": 6,
   "id": "d252be35",
   "metadata": {},
   "outputs": [
    {
     "name": "stderr",
     "output_type": "stream",
     "text": [
      "Input sequence provided is already in string format. No operation performed\n",
      "Input sequence provided is already in string format. No operation performed\n",
      "53 input query terms found dup hits:\t[('NM_131875.1', 119), ('NM_001193674.1', 2), ('NM_201063.1', 2), ('NM_001003633.1', 2), ('NM_001281\n"
     ]
    }
   ],
   "source": [
    "blast_result_genes = fetch_geneIDs(blast_result,taxid='zebrafish')"
   ]
  },
  {
   "cell_type": "markdown",
   "id": "3bd13ef0",
   "metadata": {},
   "source": [
    "View the blast results with gene IDs appended"
   ]
  },
  {
   "cell_type": "code",
   "execution_count": 7,
   "id": "ac33594e",
   "metadata": {},
   "outputs": [
    {
     "data": {
      "text/html": [
       "<div>\n",
       "<style scoped>\n",
       "    .dataframe tbody tr th:only-of-type {\n",
       "        vertical-align: middle;\n",
       "    }\n",
       "\n",
       "    .dataframe tbody tr th {\n",
       "        vertical-align: top;\n",
       "    }\n",
       "\n",
       "    .dataframe thead th {\n",
       "        text-align: right;\n",
       "    }\n",
       "</style>\n",
       "<table border=\"1\" class=\"dataframe\">\n",
       "  <thead>\n",
       "    <tr style=\"text-align: right;\">\n",
       "      <th></th>\n",
       "      <th>qid</th>\n",
       "      <th>geneid</th>\n",
       "      <th>sseqid</th>\n",
       "      <th>pident</th>\n",
       "      <th>length</th>\n",
       "      <th>mismatch</th>\n",
       "      <th>gapopen</th>\n",
       "      <th>qstart</th>\n",
       "      <th>qend</th>\n",
       "      <th>sstart</th>\n",
       "      <th>send</th>\n",
       "      <th>evalue</th>\n",
       "      <th>bitscore</th>\n",
       "    </tr>\n",
       "  </thead>\n",
       "  <tbody>\n",
       "    <tr>\n",
       "      <th>0</th>\n",
       "      <td>1</td>\n",
       "      <td>140616</td>\n",
       "      <td>NM_131875.1</td>\n",
       "      <td>100.000</td>\n",
       "      <td>25</td>\n",
       "      <td>0</td>\n",
       "      <td>0</td>\n",
       "      <td>1</td>\n",
       "      <td>25</td>\n",
       "      <td>25</td>\n",
       "      <td>1</td>\n",
       "      <td>0.000002</td>\n",
       "      <td>50.1</td>\n",
       "    </tr>\n",
       "    <tr>\n",
       "      <th>1</th>\n",
       "      <td>1</td>\n",
       "      <td>100049175</td>\n",
       "      <td>NM_001098197.1</td>\n",
       "      <td>100.000</td>\n",
       "      <td>16</td>\n",
       "      <td>0</td>\n",
       "      <td>0</td>\n",
       "      <td>4</td>\n",
       "      <td>19</td>\n",
       "      <td>900</td>\n",
       "      <td>885</td>\n",
       "      <td>0.370000</td>\n",
       "      <td>32.2</td>\n",
       "    </tr>\n",
       "    <tr>\n",
       "      <th>2</th>\n",
       "      <td>1</td>\n",
       "      <td>794221</td>\n",
       "      <td>NM_001097586.1</td>\n",
       "      <td>100.000</td>\n",
       "      <td>16</td>\n",
       "      <td>0</td>\n",
       "      <td>0</td>\n",
       "      <td>4</td>\n",
       "      <td>19</td>\n",
       "      <td>790</td>\n",
       "      <td>775</td>\n",
       "      <td>0.370000</td>\n",
       "      <td>32.2</td>\n",
       "    </tr>\n",
       "    <tr>\n",
       "      <th>9</th>\n",
       "      <td>1</td>\n",
       "      <td>767773</td>\n",
       "      <td>NM_001076740.2</td>\n",
       "      <td>94.444</td>\n",
       "      <td>18</td>\n",
       "      <td>1</td>\n",
       "      <td>0</td>\n",
       "      <td>6</td>\n",
       "      <td>23</td>\n",
       "      <td>238</td>\n",
       "      <td>221</td>\n",
       "      <td>5.800000</td>\n",
       "      <td>28.2</td>\n",
       "    </tr>\n",
       "    <tr>\n",
       "      <th>16</th>\n",
       "      <td>1</td>\n",
       "      <td>558610</td>\n",
       "      <td>NM_001386842.1</td>\n",
       "      <td>94.118</td>\n",
       "      <td>17</td>\n",
       "      <td>1</td>\n",
       "      <td>0</td>\n",
       "      <td>4</td>\n",
       "      <td>20</td>\n",
       "      <td>316</td>\n",
       "      <td>300</td>\n",
       "      <td>23.000000</td>\n",
       "      <td>26.3</td>\n",
       "    </tr>\n",
       "  </tbody>\n",
       "</table>\n",
       "</div>"
      ],
      "text/plain": [
       "    qid     geneid          sseqid   pident  length  mismatch  gapopen  \\\n",
       "0     1     140616     NM_131875.1  100.000      25         0        0   \n",
       "1     1  100049175  NM_001098197.1  100.000      16         0        0   \n",
       "2     1     794221  NM_001097586.1  100.000      16         0        0   \n",
       "9     1     767773  NM_001076740.2   94.444      18         1        0   \n",
       "16    1     558610  NM_001386842.1   94.118      17         1        0   \n",
       "\n",
       "    qstart  qend  sstart  send     evalue  bitscore  \n",
       "0        1    25      25     1   0.000002      50.1  \n",
       "1        4    19     900   885   0.370000      32.2  \n",
       "2        4    19     790   775   0.370000      32.2  \n",
       "9        6    23     238   221   5.800000      28.2  \n",
       "16       4    20     316   300  23.000000      26.3  "
      ]
     },
     "execution_count": 7,
     "metadata": {},
     "output_type": "execute_result"
    }
   ],
   "source": [
    "blast_result_genes.head()"
   ]
  },
  {
   "cell_type": "markdown",
   "id": "d8f04e8c",
   "metadata": {},
   "source": [
    "The oligos need to be filtered based on the GC content and the Melting Temperature. Default range for GC: 37-85 % & Default range for MT: 47-85 C These can also be adjusted in the 'filter and rank' function but is optional.\n",
    "\n",
    "Based on the BLAST results, neighbouring oligos that hit the same transcript (other than our target gene) should be filtered out. This is to ensure specificity of HCR probes\n",
    "\n",
    "Lastly, the neighbouring oligo pairs are ranked according to their specificity"
   ]
  },
  {
   "cell_type": "code",
   "execution_count": 8,
   "id": "beb91038",
   "metadata": {},
   "outputs": [
    {
     "name": "stdout",
     "output_type": "stream",
     "text": [
      "Filtering oligos based on GC content and Melting Temperature...\n",
      "Filtering adjacent oligos with same transcript hits...\n",
      "Generated 32 non-overlapping probe pairs\n"
     ]
    }
   ],
   "source": [
    "probe_datasheet = filter_and_rank(oligos_all,blast_result_genes,Tm_range=[47,85],GC_range=[0.37,0.85])"
   ]
  },
  {
   "cell_type": "markdown",
   "id": "72f56e6e",
   "metadata": {},
   "source": [
    "View the probe datasheet for the optimal set of HCR oligo pairs after filtering"
   ]
  },
  {
   "cell_type": "code",
   "execution_count": 9,
   "id": "e9bfa3f8",
   "metadata": {},
   "outputs": [
    {
     "data": {
      "text/html": [
       "<div>\n",
       "<style scoped>\n",
       "    .dataframe tbody tr th:only-of-type {\n",
       "        vertical-align: middle;\n",
       "    }\n",
       "\n",
       "    .dataframe tbody tr th {\n",
       "        vertical-align: top;\n",
       "    }\n",
       "\n",
       "    .dataframe thead th {\n",
       "        text-align: right;\n",
       "    }\n",
       "</style>\n",
       "<table border=\"1\" class=\"dataframe\">\n",
       "  <thead>\n",
       "    <tr style=\"text-align: right;\">\n",
       "      <th></th>\n",
       "      <th>Oligo1_Position</th>\n",
       "      <th>Oligo2_Position</th>\n",
       "      <th>Oligo1_Sequence</th>\n",
       "      <th>Oligo2_Sequence</th>\n",
       "      <th>Score (average hits)</th>\n",
       "    </tr>\n",
       "  </thead>\n",
       "  <tbody>\n",
       "    <tr>\n",
       "      <th>0</th>\n",
       "      <td>61</td>\n",
       "      <td>62</td>\n",
       "      <td>CGGCGTATTCGGCGAATTGTGCGCG</td>\n",
       "      <td>CGTAGTAGGATCCCGAGGCCTGGTG</td>\n",
       "      <td>1.0</td>\n",
       "    </tr>\n",
       "    <tr>\n",
       "      <th>1</th>\n",
       "      <td>53</td>\n",
       "      <td>54</td>\n",
       "      <td>TAGCGGCCGCTAGCGCGCTGGAGAT</td>\n",
       "      <td>TGGACAGCCATGCGGTGGAGTGGCC</td>\n",
       "      <td>1.5</td>\n",
       "    </tr>\n",
       "    <tr>\n",
       "      <th>2</th>\n",
       "      <td>65</td>\n",
       "      <td>66</td>\n",
       "      <td>GAATGGCGGTGTACAGGGGCCGCTG</td>\n",
       "      <td>GTGACTGCGGCACGGATCCCGGATC</td>\n",
       "      <td>1.5</td>\n",
       "    </tr>\n",
       "    <tr>\n",
       "      <th>3</th>\n",
       "      <td>57</td>\n",
       "      <td>58</td>\n",
       "      <td>CCCCAGGGAAGTGTGTTTCACTCTT</td>\n",
       "      <td>TGACGTGTGAACCGCTCGCCGCTGT</td>\n",
       "      <td>2.0</td>\n",
       "    </tr>\n",
       "    <tr>\n",
       "      <th>4</th>\n",
       "      <td>91</td>\n",
       "      <td>92</td>\n",
       "      <td>CTTAATTGGGTGGAGACATGTGTGT</td>\n",
       "      <td>ATTTAATTAACGTCACTGTGAGCGC</td>\n",
       "      <td>2.0</td>\n",
       "    </tr>\n",
       "  </tbody>\n",
       "</table>\n",
       "</div>"
      ],
      "text/plain": [
       "   Oligo1_Position  Oligo2_Position            Oligo1_Sequence  \\\n",
       "0               61               62  CGGCGTATTCGGCGAATTGTGCGCG   \n",
       "1               53               54  TAGCGGCCGCTAGCGCGCTGGAGAT   \n",
       "2               65               66  GAATGGCGGTGTACAGGGGCCGCTG   \n",
       "3               57               58  CCCCAGGGAAGTGTGTTTCACTCTT   \n",
       "4               91               92  CTTAATTGGGTGGAGACATGTGTGT   \n",
       "\n",
       "             Oligo2_Sequence  Score (average hits)  \n",
       "0  CGTAGTAGGATCCCGAGGCCTGGTG                   1.0  \n",
       "1  TGGACAGCCATGCGGTGGAGTGGCC                   1.5  \n",
       "2  GTGACTGCGGCACGGATCCCGGATC                   1.5  \n",
       "3  TGACGTGTGAACCGCTCGCCGCTGT                   2.0  \n",
       "4  ATTTAATTAACGTCACTGTGAGCGC                   2.0  "
      ]
     },
     "execution_count": 9,
     "metadata": {},
     "output_type": "execute_result"
    }
   ],
   "source": [
    "probe_datasheet.head()"
   ]
  },
  {
   "cell_type": "markdown",
   "id": "83430495",
   "metadata": {},
   "source": [
    "Choose hairpin (B1-B5) for the selected probes to generate final HCR probe pairs"
   ]
  },
  {
   "cell_type": "code",
   "execution_count": 10,
   "id": "7fc8aac4",
   "metadata": {},
   "outputs": [
    {
     "name": "stdout",
     "output_type": "stream",
     "text": [
      "Generating HCR probes...\n",
      "HCR probes designed\n"
     ]
    }
   ],
   "source": [
    "hcr_probes = add_hairpin(probe_datasheet,'B3')"
   ]
  },
  {
   "cell_type": "markdown",
   "id": "391b1674",
   "metadata": {},
   "source": [
    "View final HCR probes for the chosen hairpin.\n",
    "The hcr_probes datasheet has the following columns:\n",
    "\n",
    "'Oligo1_position' and 'Oligo2_position' columns represent the location of the oligo along the transcript\n",
    "\n",
    "'Oligo1_Sequence' and 'Oligo2_Sequence' are reverse complement oligos of the two neighbouring 25 base sequence along the transcript\n",
    "\n",
    "'Score (avg hits)' represents how many other transcripts on average could partially bind to one of the two oligos, but not both. Lower the score, higher the specificity of the probe pair\n",
    "\n",
    "'HCRprobe1' and 'HCRprobe2' are the final hairpin appended oligos that should be ordered as ssDNA."
   ]
  },
  {
   "cell_type": "code",
   "execution_count": 11,
   "id": "c9988ea4",
   "metadata": {},
   "outputs": [
    {
     "data": {
      "text/html": [
       "<div>\n",
       "<style scoped>\n",
       "    .dataframe tbody tr th:only-of-type {\n",
       "        vertical-align: middle;\n",
       "    }\n",
       "\n",
       "    .dataframe tbody tr th {\n",
       "        vertical-align: top;\n",
       "    }\n",
       "\n",
       "    .dataframe thead th {\n",
       "        text-align: right;\n",
       "    }\n",
       "</style>\n",
       "<table border=\"1\" class=\"dataframe\">\n",
       "  <thead>\n",
       "    <tr style=\"text-align: right;\">\n",
       "      <th></th>\n",
       "      <th>Oligo1_Position</th>\n",
       "      <th>Oligo2_Position</th>\n",
       "      <th>Oligo1_Sequence</th>\n",
       "      <th>Oligo2_Sequence</th>\n",
       "      <th>Score (average hits)</th>\n",
       "      <th>HCRprobe1</th>\n",
       "      <th>HCRprobe2</th>\n",
       "    </tr>\n",
       "  </thead>\n",
       "  <tbody>\n",
       "    <tr>\n",
       "      <th>0</th>\n",
       "      <td>61</td>\n",
       "      <td>62</td>\n",
       "      <td>CGGCGTATTCGGCGAATTGTGCGCG</td>\n",
       "      <td>CGTAGTAGGATCCCGAGGCCTGGTG</td>\n",
       "      <td>1.0</td>\n",
       "      <td>GTCCCTGCCTCTATATCTTTCGGCGTATTCGGCGAATTGTGCGCG</td>\n",
       "      <td>CGTAGTAGGATCCCGAGGCCTGGTGTTCCACTCAACTTTAACCCG</td>\n",
       "    </tr>\n",
       "    <tr>\n",
       "      <th>1</th>\n",
       "      <td>53</td>\n",
       "      <td>54</td>\n",
       "      <td>TAGCGGCCGCTAGCGCGCTGGAGAT</td>\n",
       "      <td>TGGACAGCCATGCGGTGGAGTGGCC</td>\n",
       "      <td>1.5</td>\n",
       "      <td>GTCCCTGCCTCTATATCTTTTAGCGGCCGCTAGCGCGCTGGAGAT</td>\n",
       "      <td>TGGACAGCCATGCGGTGGAGTGGCCTTCCACTCAACTTTAACCCG</td>\n",
       "    </tr>\n",
       "    <tr>\n",
       "      <th>2</th>\n",
       "      <td>65</td>\n",
       "      <td>66</td>\n",
       "      <td>GAATGGCGGTGTACAGGGGCCGCTG</td>\n",
       "      <td>GTGACTGCGGCACGGATCCCGGATC</td>\n",
       "      <td>1.5</td>\n",
       "      <td>GTCCCTGCCTCTATATCTTTGAATGGCGGTGTACAGGGGCCGCTG</td>\n",
       "      <td>GTGACTGCGGCACGGATCCCGGATCTTCCACTCAACTTTAACCCG</td>\n",
       "    </tr>\n",
       "    <tr>\n",
       "      <th>3</th>\n",
       "      <td>57</td>\n",
       "      <td>58</td>\n",
       "      <td>CCCCAGGGAAGTGTGTTTCACTCTT</td>\n",
       "      <td>TGACGTGTGAACCGCTCGCCGCTGT</td>\n",
       "      <td>2.0</td>\n",
       "      <td>GTCCCTGCCTCTATATCTTTCCCCAGGGAAGTGTGTTTCACTCTT</td>\n",
       "      <td>TGACGTGTGAACCGCTCGCCGCTGTTTCCACTCAACTTTAACCCG</td>\n",
       "    </tr>\n",
       "    <tr>\n",
       "      <th>4</th>\n",
       "      <td>91</td>\n",
       "      <td>92</td>\n",
       "      <td>CTTAATTGGGTGGAGACATGTGTGT</td>\n",
       "      <td>ATTTAATTAACGTCACTGTGAGCGC</td>\n",
       "      <td>2.0</td>\n",
       "      <td>GTCCCTGCCTCTATATCTTTCTTAATTGGGTGGAGACATGTGTGT</td>\n",
       "      <td>ATTTAATTAACGTCACTGTGAGCGCTTCCACTCAACTTTAACCCG</td>\n",
       "    </tr>\n",
       "  </tbody>\n",
       "</table>\n",
       "</div>"
      ],
      "text/plain": [
       "   Oligo1_Position  Oligo2_Position            Oligo1_Sequence  \\\n",
       "0               61               62  CGGCGTATTCGGCGAATTGTGCGCG   \n",
       "1               53               54  TAGCGGCCGCTAGCGCGCTGGAGAT   \n",
       "2               65               66  GAATGGCGGTGTACAGGGGCCGCTG   \n",
       "3               57               58  CCCCAGGGAAGTGTGTTTCACTCTT   \n",
       "4               91               92  CTTAATTGGGTGGAGACATGTGTGT   \n",
       "\n",
       "             Oligo2_Sequence  Score (average hits)  \\\n",
       "0  CGTAGTAGGATCCCGAGGCCTGGTG                   1.0   \n",
       "1  TGGACAGCCATGCGGTGGAGTGGCC                   1.5   \n",
       "2  GTGACTGCGGCACGGATCCCGGATC                   1.5   \n",
       "3  TGACGTGTGAACCGCTCGCCGCTGT                   2.0   \n",
       "4  ATTTAATTAACGTCACTGTGAGCGC                   2.0   \n",
       "\n",
       "                                       HCRprobe1  \\\n",
       "0  GTCCCTGCCTCTATATCTTTCGGCGTATTCGGCGAATTGTGCGCG   \n",
       "1  GTCCCTGCCTCTATATCTTTTAGCGGCCGCTAGCGCGCTGGAGAT   \n",
       "2  GTCCCTGCCTCTATATCTTTGAATGGCGGTGTACAGGGGCCGCTG   \n",
       "3  GTCCCTGCCTCTATATCTTTCCCCAGGGAAGTGTGTTTCACTCTT   \n",
       "4  GTCCCTGCCTCTATATCTTTCTTAATTGGGTGGAGACATGTGTGT   \n",
       "\n",
       "                                       HCRprobe2  \n",
       "0  CGTAGTAGGATCCCGAGGCCTGGTGTTCCACTCAACTTTAACCCG  \n",
       "1  TGGACAGCCATGCGGTGGAGTGGCCTTCCACTCAACTTTAACCCG  \n",
       "2  GTGACTGCGGCACGGATCCCGGATCTTCCACTCAACTTTAACCCG  \n",
       "3  TGACGTGTGAACCGCTCGCCGCTGTTTCCACTCAACTTTAACCCG  \n",
       "4  ATTTAATTAACGTCACTGTGAGCGCTTCCACTCAACTTTAACCCG  "
      ]
     },
     "execution_count": 11,
     "metadata": {},
     "output_type": "execute_result"
    }
   ],
   "source": [
    "hcr_probes.head()"
   ]
  },
  {
   "cell_type": "markdown",
   "id": "85b0fdda",
   "metadata": {},
   "source": [
    "Now we can visualize the alignment of the probe pairs to our target transcript sequence and save the output alignment as an image and a FASTA file."
   ]
  },
  {
   "cell_type": "code",
   "execution_count": null,
   "id": "aefd205b",
   "metadata": {},
   "outputs": [],
   "source": [
    "fig_path = \"Pybridizer\\\\output\\\\sox10_zebrafish_probe_alignment.png\"\n",
    "align_fasta_path = \"Pybridizer\\\\output\\\\sox10_zebrafish_probe_alignment.fasta\""
   ]
  },
  {
   "cell_type": "code",
   "execution_count": 13,
   "id": "1ae502e3",
   "metadata": {},
   "outputs": [
    {
     "name": "stdout",
     "output_type": "stream",
     "text": [
      "Alignment FASTA saved to C:\\Users\\Ctrivedi\\Documents\\Pybridizer\\output\\sox10_zebrafish_probe_alignment.fasta\n"
     ]
    },
    {
     "data": {
      "image/png": "[encoded data removed]",
      "text/plain": [
       "<Figure size 1600x800 with 1 Axes>"
      ]
     },
     "metadata": {},
     "output_type": "display_data"
    }
   ],
   "source": [
    "fig,records = plot_sequence_alignment(sequence, ID, probe_datasheet, top_n=None,figsize=(16,8),save_path=fig_path,output_fasta=align_fasta_path)"
   ]
  }
 ],
 "metadata": {
  "kernelspec": {
   "display_name": "hcr",
   "language": "python",
   "name": "python3"
  },
  "language_info": {
   "codemirror_mode": {
    "name": "ipython",
    "version": 3
   },
   "file_extension": ".py",
   "mimetype": "text/x-python",
   "name": "python",
   "nbconvert_exporter": "python",
   "pygments_lexer": "ipython3",
   "version": "3.10.0"
  }
 },
 "nbformat": 4,
 "nbformat_minor": 5
}
